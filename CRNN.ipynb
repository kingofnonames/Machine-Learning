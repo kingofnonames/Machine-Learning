{
  "cells": [
    {
      "cell_type": "code",
      "execution_count": 24,
      "metadata": {
        "id": "GdOBcgac0Ysk"
      },
      "outputs": [],
      "source": [
        "import numpy as np\n",
        "import h5py\n",
        "from sklearn.model_selection import train_test_split\n",
        "from sklearn.preprocessing import LabelEncoder\n",
        "from tensorflow.keras.models import Model\n",
        "from tensorflow.keras.layers import (Input, Conv2D, MaxPooling2D, BatchNormalization, Reshape,\n",
        "                                     Bidirectional, LSTM, Dense, Dropout)\n",
        "from tensorflow.keras.utils import to_categorical\n",
        "from tensorflow.keras.optimizers import Adam\n",
        "from sklearn.metrics import confusion_matrix, ConfusionMatrixDisplay\n",
        "import matplotlib.pyplot as plt\n",
        "from sklearn.metrics import accuracy_score, f1_score, recall_score, confusion_matrix, precision_score"
      ]
    },
    {
      "cell_type": "code",
      "execution_count": 3,
      "metadata": {
        "id": "rVOb585k0a1r"
      },
      "outputs": [],
      "source": [
        "def load_mel_spectrograms_from_h5(file_path):\n",
        "    try:\n",
        "        with h5py.File(file_path, \"r\") as h5_file:\n",
        "            print(h5_file.keys())\n",
        "            X = h5_file['X']\n",
        "            y = h5_file['y']\n",
        "            return np.array(X), np.array(y)\n",
        "    except:\n",
        "        print(\"Lỗi trong quá trình load dữ liệu từ file!\")"
      ]
    },
    {
      "cell_type": "code",
      "execution_count": 4,
      "metadata": {
        "id": "i9Obuh-60v8y"
      },
      "outputs": [],
      "source": [
        "file_path = \"/content/drive/MyDrive/ML_datasets/processed_data.h5\""
      ]
    },
    {
      "cell_type": "code",
      "execution_count": 11,
      "metadata": {
        "colab": {
          "base_uri": "https://localhost:8080/"
        },
        "id": "rEHptzlq4jPp",
        "outputId": "81954ff6-07e6-4592-ebba-520f133b722f"
      },
      "outputs": [
        {
          "name": "stdout",
          "output_type": "stream",
          "text": [
            "<KeysViewHDF5 ['X', 'y']>\n",
            "(7000, 16640) (7000,)\n"
          ]
        }
      ],
      "source": [
        "X, y = load_mel_spectrograms_from_h5(file_path)\n",
        "print(X.shape, y.shape)"
      ]
    },
    {
      "cell_type": "code",
      "execution_count": 13,
      "metadata": {
        "id": "VRaMcc9B7mZR"
      },
      "outputs": [],
      "source": [
        "X = X.reshape(-1, 128, 130)"
      ]
    },
    {
      "cell_type": "code",
      "execution_count": 15,
      "metadata": {
        "id": "1HdOe7Dc4yTu"
      },
      "outputs": [],
      "source": [
        "X = X[..., np.newaxis]"
      ]
    },
    {
      "cell_type": "code",
      "execution_count": 16,
      "metadata": {
        "id": "9apD6K7U5j4E"
      },
      "outputs": [],
      "source": [
        "le = LabelEncoder()\n",
        "y_encoded = le.fit_transform(y)\n",
        "y = to_categorical(y_encoded)"
      ]
    },
    {
      "cell_type": "code",
      "execution_count": 31,
      "metadata": {
        "id": "aLZmLAhc5-eQ"
      },
      "outputs": [],
      "source": [
        "X_train, X_temp, y_train, y_temp = train_test_split(X, y, test_size=0.2, random_state=42, stratify=y_encoded)\n",
        "X_val, X_test, y_val, y_test = train_test_split(X_temp, y_temp, test_size=0.5, random_state=42, stratify=y_temp)"
      ]
    },
    {
      "cell_type": "code",
      "execution_count": 32,
      "metadata": {
        "id": "YRrxbI_t6D7o"
      },
      "outputs": [],
      "source": [
        "def build_crnn_model(input_shape, num_classes):\n",
        "    inp = Input(shape=input_shape)\n",
        "    x = Conv2D(32, (3, 3), activation='relu', padding='same')(inp)\n",
        "    x = MaxPooling2D((2, 2))(x)\n",
        "    x = BatchNormalization()(x)\n",
        "\n",
        "    x = Conv2D(64, (3, 3), activation='relu', padding='same')(x)\n",
        "    x = MaxPooling2D((2, 2))(x)\n",
        "    x = BatchNormalization()(x)\n",
        "\n",
        "    # Reshape for RNN input: (batch, time, features)\n",
        "    shape = x.shape\n",
        "    x = Reshape((shape[1], shape[2]*shape[3]))(x)\n",
        "    x = Bidirectional(LSTM(64, return_sequences=False))(x)\n",
        "\n",
        "    x = Dropout(0.5)(x)\n",
        "    out = Dense(num_classes, activation='softmax')(x)\n",
        "\n",
        "    model = Model(inputs=inp, outputs=out)\n",
        "    model.compile(optimizer=Adam(1e-4), loss='categorical_crossentropy', metrics=['accuracy'])\n",
        "    return model\n",
        "\n",
        "model = build_crnn_model(input_shape=(128, 130, 1), num_classes=y.shape[1])"
      ]
    },
    {
      "cell_type": "code",
      "execution_count": 33,
      "metadata": {
        "colab": {
          "base_uri": "https://localhost:8080/"
        },
        "id": "zum5WftG6mUI",
        "outputId": "1c8a1ad1-7c8d-4181-dfc1-f8d1cd58d56f"
      },
      "outputs": [
        {
          "name": "stdout",
          "output_type": "stream",
          "text": [
            "Epoch 1/20\n",
            "\u001b[1m175/175\u001b[0m \u001b[32m━━━━━━━━━━━━━━━━━━━━\u001b[0m\u001b[37m\u001b[0m \u001b[1m9s\u001b[0m 31ms/step - accuracy: 0.4018 - loss: 1.5676 - val_accuracy: 0.1471 - val_loss: 2.7036\n",
            "Epoch 2/20\n",
            "\u001b[1m175/175\u001b[0m \u001b[32m━━━━━━━━━━━━━━━━━━━━\u001b[0m\u001b[37m\u001b[0m \u001b[1m5s\u001b[0m 28ms/step - accuracy: 0.7079 - loss: 0.8915 - val_accuracy: 0.2000 - val_loss: 2.7270\n",
            "Epoch 3/20\n",
            "\u001b[1m175/175\u001b[0m \u001b[32m━━━━━━━━━━━━━━━━━━━━\u001b[0m\u001b[37m\u001b[0m \u001b[1m5s\u001b[0m 28ms/step - accuracy: 0.7762 - loss: 0.6832 - val_accuracy: 0.3371 - val_loss: 2.1729\n",
            "Epoch 4/20\n",
            "\u001b[1m175/175\u001b[0m \u001b[32m━━━━━━━━━━━━━━━━━━━━\u001b[0m\u001b[37m\u001b[0m \u001b[1m5s\u001b[0m 30ms/step - accuracy: 0.8318 - loss: 0.5431 - val_accuracy: 0.6329 - val_loss: 0.9661\n",
            "Epoch 5/20\n",
            "\u001b[1m175/175\u001b[0m \u001b[32m━━━━━━━━━━━━━━━━━━━━\u001b[0m\u001b[37m\u001b[0m \u001b[1m5s\u001b[0m 29ms/step - accuracy: 0.8651 - loss: 0.4341 - val_accuracy: 0.8843 - val_loss: 0.3940\n",
            "Epoch 6/20\n",
            "\u001b[1m175/175\u001b[0m \u001b[32m━━━━━━━━━━━━━━━━━━━━\u001b[0m\u001b[37m\u001b[0m \u001b[1m5s\u001b[0m 27ms/step - accuracy: 0.8909 - loss: 0.3780 - val_accuracy: 0.8857 - val_loss: 0.3468\n",
            "Epoch 7/20\n",
            "\u001b[1m175/175\u001b[0m \u001b[32m━━━━━━━━━━━━━━━━━━━━\u001b[0m\u001b[37m\u001b[0m \u001b[1m5s\u001b[0m 27ms/step - accuracy: 0.9073 - loss: 0.3081 - val_accuracy: 0.9014 - val_loss: 0.3014\n",
            "Epoch 8/20\n",
            "\u001b[1m175/175\u001b[0m \u001b[32m━━━━━━━━━━━━━━━━━━━━\u001b[0m\u001b[37m\u001b[0m \u001b[1m5s\u001b[0m 28ms/step - accuracy: 0.9222 - loss: 0.2740 - val_accuracy: 0.8971 - val_loss: 0.3107\n",
            "Epoch 9/20\n",
            "\u001b[1m175/175\u001b[0m \u001b[32m━━━━━━━━━━━━━━━━━━━━\u001b[0m\u001b[37m\u001b[0m \u001b[1m5s\u001b[0m 28ms/step - accuracy: 0.9346 - loss: 0.2403 - val_accuracy: 0.9171 - val_loss: 0.2832\n",
            "Epoch 10/20\n",
            "\u001b[1m175/175\u001b[0m \u001b[32m━━━━━━━━━━━━━━━━━━━━\u001b[0m\u001b[37m\u001b[0m \u001b[1m5s\u001b[0m 29ms/step - accuracy: 0.9532 - loss: 0.1926 - val_accuracy: 0.9286 - val_loss: 0.2556\n",
            "Epoch 11/20\n",
            "\u001b[1m175/175\u001b[0m \u001b[32m━━━━━━━━━━━━━━━━━━━━\u001b[0m\u001b[37m\u001b[0m \u001b[1m5s\u001b[0m 27ms/step - accuracy: 0.9500 - loss: 0.1810 - val_accuracy: 0.9157 - val_loss: 0.2510\n",
            "Epoch 12/20\n",
            "\u001b[1m175/175\u001b[0m \u001b[32m━━━━━━━━━━━━━━━━━━━━\u001b[0m\u001b[37m\u001b[0m \u001b[1m5s\u001b[0m 27ms/step - accuracy: 0.9620 - loss: 0.1462 - val_accuracy: 0.9129 - val_loss: 0.2754\n",
            "Epoch 13/20\n",
            "\u001b[1m175/175\u001b[0m \u001b[32m━━━━━━━━━━━━━━━━━━━━\u001b[0m\u001b[37m\u001b[0m \u001b[1m5s\u001b[0m 29ms/step - accuracy: 0.9708 - loss: 0.1283 - val_accuracy: 0.9300 - val_loss: 0.2528\n",
            "Epoch 14/20\n",
            "\u001b[1m175/175\u001b[0m \u001b[32m━━━━━━━━━━━━━━━━━━━━\u001b[0m\u001b[37m\u001b[0m \u001b[1m5s\u001b[0m 27ms/step - accuracy: 0.9770 - loss: 0.1129 - val_accuracy: 0.9086 - val_loss: 0.2641\n",
            "Epoch 15/20\n",
            "\u001b[1m175/175\u001b[0m \u001b[32m━━━━━━━━━━━━━━━━━━━━\u001b[0m\u001b[37m\u001b[0m \u001b[1m5s\u001b[0m 27ms/step - accuracy: 0.9749 - loss: 0.1037 - val_accuracy: 0.8971 - val_loss: 0.3165\n",
            "Epoch 16/20\n",
            "\u001b[1m175/175\u001b[0m \u001b[32m━━━━━━━━━━━━━━━━━━━━\u001b[0m\u001b[37m\u001b[0m \u001b[1m5s\u001b[0m 29ms/step - accuracy: 0.9803 - loss: 0.0969 - val_accuracy: 0.9300 - val_loss: 0.2440\n",
            "Epoch 17/20\n",
            "\u001b[1m175/175\u001b[0m \u001b[32m━━━━━━━━━━━━━━━━━━━━\u001b[0m\u001b[37m\u001b[0m \u001b[1m10s\u001b[0m 30ms/step - accuracy: 0.9774 - loss: 0.0921 - val_accuracy: 0.9371 - val_loss: 0.2252\n",
            "Epoch 18/20\n",
            "\u001b[1m175/175\u001b[0m \u001b[32m━━━━━━━━━━━━━━━━━━━━\u001b[0m\u001b[37m\u001b[0m \u001b[1m5s\u001b[0m 27ms/step - accuracy: 0.9848 - loss: 0.0767 - val_accuracy: 0.9300 - val_loss: 0.2416\n",
            "Epoch 19/20\n",
            "\u001b[1m175/175\u001b[0m \u001b[32m━━━━━━━━━━━━━━━━━━━━\u001b[0m\u001b[37m\u001b[0m \u001b[1m5s\u001b[0m 28ms/step - accuracy: 0.9839 - loss: 0.0699 - val_accuracy: 0.9086 - val_loss: 0.2688\n",
            "Epoch 20/20\n",
            "\u001b[1m175/175\u001b[0m \u001b[32m━━━━━━━━━━━━━━━━━━━━\u001b[0m\u001b[37m\u001b[0m \u001b[1m5s\u001b[0m 30ms/step - accuracy: 0.9781 - loss: 0.0841 - val_accuracy: 0.9400 - val_loss: 0.2199\n"
          ]
        },
        {
          "data": {
            "text/plain": [
              "<keras.src.callbacks.history.History at 0x7d1d57e85fd0>"
            ]
          },
          "execution_count": 33,
          "metadata": {},
          "output_type": "execute_result"
        }
      ],
      "source": [
        "model.fit(X_train, y_train, validation_data=(X_val, y_val), epochs=20, batch_size=32)"
      ]
    },
    {
      "cell_type": "code",
      "execution_count": 35,
      "metadata": {
        "colab": {
          "base_uri": "https://localhost:8080/"
        },
        "id": "HF64HY547R4J",
        "outputId": "3232316e-2534-4451-9cbf-d077b85eab17"
      },
      "outputs": [
        {
          "name": "stdout",
          "output_type": "stream",
          "text": [
            "\u001b[1m22/22\u001b[0m \u001b[32m━━━━━━━━━━━━━━━━━━━━\u001b[0m\u001b[37m\u001b[0m \u001b[1m0s\u001b[0m 11ms/step - accuracy: 0.9252 - loss: 0.2089\n",
            "Test Accuracy: 0.9257143139839172\n"
          ]
        }
      ],
      "source": [
        "loss, acc = model.evaluate(X_test, y_test)\n",
        "print(\"Test Accuracy:\", acc)"
      ]
    },
    {
      "cell_type": "code",
      "execution_count": 36,
      "metadata": {
        "colab": {
          "base_uri": "https://localhost:8080/"
        },
        "id": "elqRdwSA8ZyN",
        "outputId": "52251b43-eac5-4a57-b3dc-331ec2482b0e"
      },
      "outputs": [
        {
          "name": "stdout",
          "output_type": "stream",
          "text": [
            "\u001b[1m22/22\u001b[0m \u001b[32m━━━━━━━━━━━━━━━━━━━━\u001b[0m\u001b[37m\u001b[0m \u001b[1m1s\u001b[0m 20ms/step\n"
          ]
        }
      ],
      "source": [
        "y_pred = model.predict(X_test)\n",
        "y_pred_classes = np.argmax(y_pred, axis=1)\n",
        "y_true_classes = np.argmax(y_test, axis=1)"
      ]
    },
    {
      "cell_type": "code",
      "execution_count": 37,
      "metadata": {
        "colab": {
          "base_uri": "https://localhost:8080/"
        },
        "id": "PXAVeaCC8hUN",
        "outputId": "0795125b-907b-4df4-bd92-811137fb8109"
      },
      "outputs": [
        {
          "name": "stdout",
          "output_type": "stream",
          "text": [
            "Accuracy: 0.926\n",
            "Precision: 0.929\n",
            "Recall: 0.926\n",
            "F1: 0.926\n"
          ]
        }
      ],
      "source": [
        "print(f\"Accuracy: {accuracy_score(y_true_classes, y_pred_classes):.3f}\")\n",
        "print(\n",
        "    f\"Precision: {precision_score(y_true_classes, y_pred_classes, average='macro'):.3f}\")\n",
        "print(f\"Recall: {recall_score(y_true_classes, y_pred_classes, average='macro'):.3f}\")\n",
        "print(f\"F1: {f1_score(y_true_classes, y_pred_classes, average='macro'):.3f}\")"
      ]
    },
    {
      "cell_type": "code",
      "execution_count": 38,
      "metadata": {
        "colab": {
          "base_uri": "https://localhost:8080/",
          "height": 487
        },
        "id": "9_9taw6V8PrI",
        "outputId": "aa6feda4-24b2-42d6-db97-754f9489bb7d"
      },
      "outputs": [
        {
          "data": {
            "image/png": "[encoded data removed]",
            "text/plain": [
              "<Figure size 640x480 with 2 Axes>"
            ]
          },
          "metadata": {},
          "output_type": "display_data"
        }
      ],
      "source": [
        "cm = confusion_matrix(y_true_classes, y_pred_classes)\n",
        "labels_name = [\"Sáo\", \"Trumpet\", \"Guitar\", \"Saxo\", \"Piano\", \"Trống\", \"Vio\"]\n",
        "\n",
        "ConfusionMatrixDisplay(confusion_matrix=cm, display_labels=labels_name).plot(xticks_rotation=45, cmap='Blues')\n",
        "plt.title(\"Confusion Matrix\")\n",
        "plt.tight_layout()\n",
        "plt.savefig(\"/content/drive/MyDrive/ML_datasets/cm_crnn\", dpi=300)\n",
        "plt.show()"
      ]
    },
    {
      "cell_type": "code",
      "execution_count": null,
      "metadata": {
        "id": "wg-KDzKm8qTM"
      },
      "outputs": [],
      "source": []
    }
  ],
  "metadata": {
    "accelerator": "GPU",
    "colab": {
      "gpuType": "T4",
      "provenance": []
    },
    "kernelspec": {
      "display_name": "Python 3",
      "name": "python3"
    },
    "language_info": {
      "name": "python"
    }
  },
  "nbformat": 4,
  "nbformat_minor": 0
}
